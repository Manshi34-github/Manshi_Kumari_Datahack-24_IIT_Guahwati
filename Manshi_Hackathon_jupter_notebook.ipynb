{
 "cells": [
  {
   "cell_type": "code",
   "execution_count": 35,
   "id": "f0f369d0-19f2-4608-9dea-fb29c2babdfb",
   "metadata": {},
   "outputs": [],
   "source": [
    "import pandas as pd\n",
    "from sklearn.linear_model import LogisticRegression\n",
    "from sklearn.multioutput import MultiOutputClassifier\n",
    "from sklearn.model_selection import train_test_split\n",
    "from sklearn.preprocessing import StandardScaler, OneHotEncoder, OrdinalEncoder\n",
    "from sklearn.compose import ColumnTransformer\n",
    "from sklearn.pipeline import Pipeline\n",
    "from sklearn.impute import SimpleImputer\n",
    "from sklearn.metrics import accuracy_score, roc_auc_score, classification_report\n",
    "from sklearn.model_selection import train_test_split\n"
   ]
  },
  {
   "cell_type": "code",
   "execution_count": 37,
   "id": "dbaa1021-1535-4c78-821c-24240501aa93",
   "metadata": {},
   "outputs": [],
   "source": [
    "# Load the datasets\n",
    "train_features = pd.read_csv('training_set_features.csv')\n",
    "train_labels = pd.read_csv('training_set_labels.csv')\n",
    "test_features = pd.read_csv('test_set_features.csv')"
   ]
  },
  {
   "cell_type": "code",
   "execution_count": 38,
   "id": "841bee92-9e2a-45ba-ac5e-2526177873d1",
   "metadata": {},
   "outputs": [],
   "source": [
    "# Separate features and target variables\n",
    "X = train_features\n",
    "y = train_labels[['xyz_vaccine', 'seasonal_vaccine']]\n"
   ]
  },
  {
   "cell_type": "code",
   "execution_count": 41,
   "id": "5920e9de-dfc5-404f-aa51-2858e00ade0c",
   "metadata": {},
   "outputs": [],
   "source": [
    "# Identify categorical and numerical columns\n",
    "categorical_cols = X.select_dtypes(include=['object']).columns\n",
    "numerical_cols = X.select_dtypes(include=['int64', 'float64']).columns"
   ]
  },
  {
   "cell_type": "code",
   "execution_count": 43,
   "id": "9aa4dff6-4df8-46b4-bd49-ed825eaf8bc7",
   "metadata": {},
   "outputs": [],
   "source": [
    "# Define ordinal features and their ordering\n",
    "ordinal_features = {\n",
    "    'xyz_concern': [0, 1, 2, 3],\n",
    "    'xyz_knowledge': [0, 1, 2],\n",
    "    'opinion_xyz_vacc_effective': [1, 2, 3, 4, 5],\n",
    "    'opinion_xyz_risk': [1, 2, 3, 4, 5],\n",
    "    'opinion_xyz_sick_from_vacc': [1, 2, 3, 4, 5],\n",
    "    'opinion_seas_vacc_effective': [1, 2, 3, 4, 5],\n",
    "    'opinion_seas_risk': [1, 2, 3, 4, 5],\n",
    "    'opinion_seas_sick_from_vacc': [1, 2, 3, 4, 5]\n",
    "}\n",
    "\n",
    "ordinal_cols = list(ordinal_features.keys())"
   ]
  },
  {
   "cell_type": "code",
   "execution_count": 45,
   "id": "815a9a08-4c79-4199-9a19-f849d2dec8e1",
   "metadata": {},
   "outputs": [],
   "source": [
    "\n",
    "\n",
    "# Preprocessing pipelines for numerical, ordinal, and nominal categorical data\n",
    "numerical_transformer = Pipeline(steps=[\n",
    "    ('imputer', SimpleImputer(strategy='median')),  # Fill missing numerical values with median\n",
    "    ('scaler', StandardScaler())  # Scale numerical values\n",
    "])\n",
    "ordinal_transformer = Pipeline(steps=[\n",
    "    ('imputer', SimpleImputer(strategy='most_frequent')),  # Fill missing ordinal values with the most frequent value\n",
    "    ('ordinal', OrdinalEncoder(categories=[ordinal_features[col] for col in ordinal_cols]))  # Encode ordinal values\n",
    "])\n",
    "\n",
    "categorical_transformer = Pipeline(steps=[\n",
    "    ('imputer', SimpleImputer(strategy='most_frequent')),  # Fill missing categorical values with the most frequent value\n",
    "    ('onehot', OneHotEncoder(handle_unknown='ignore'))  # One-hot encode categorical values\n",
    "])"
   ]
  },
  {
   "cell_type": "code",
   "execution_count": 47,
   "id": "afd5201e-f237-4606-8645-6c42d9ac4879",
   "metadata": {},
   "outputs": [],
   "source": [
    "# Combine preprocessing steps\n",
    "preprocessor = ColumnTransformer(\n",
    "    transformers=[\n",
    "        ('num', numerical_transformer, numerical_cols),\n",
    "        ('ord', ordinal_transformer, ordinal_cols),\n",
    "        ('cat', categorical_transformer, [col for col in categorical_cols if col not in ordinal_cols])\n",
    "    ])"
   ]
  },
  {
   "cell_type": "code",
   "execution_count": 49,
   "id": "1f458d86-3a7a-4a21-a055-dee50c60768d",
   "metadata": {},
   "outputs": [],
   "source": [
    "# Split data into training and validation sets\n",
    "X_train, X_val, y_train, y_val = train_test_split(X, y, test_size=0.2, random_state=42)"
   ]
  },
  {
   "cell_type": "code",
   "execution_count": 50,
   "id": "b6422e75-b67b-4d6d-8bbb-8ebed90a3151",
   "metadata": {},
   "outputs": [],
   "source": [
    "# Create a multilabel classifier\n",
    "multi_target_model = Pipeline(steps=[\n",
    "    ('preprocessor', preprocessor),\n",
    "    ('classifier', MultiOutputClassifier(LogisticRegression()))\n",
    "])"
   ]
  },
  {
   "cell_type": "code",
   "execution_count": 53,
   "id": "733b8e7a-c778-492c-a039-e306577d1cd9",
   "metadata": {},
   "outputs": [
    {
     "name": "stderr",
     "output_type": "stream",
     "text": [
      "/opt/conda/envs/anaconda-panel-2023.05-py310/lib/python3.11/site-packages/sklearn/linear_model/_logistic.py:460: ConvergenceWarning: lbfgs failed to converge (status=1):\n",
      "STOP: TOTAL NO. of ITERATIONS REACHED LIMIT.\n",
      "\n",
      "Increase the number of iterations (max_iter) or scale the data as shown in:\n",
      "    https://scikit-learn.org/stable/modules/preprocessing.html\n",
      "Please also refer to the documentation for alternative solver options:\n",
      "    https://scikit-learn.org/stable/modules/linear_model.html#logistic-regression\n",
      "  n_iter_i = _check_optimize_result(\n",
      "/opt/conda/envs/anaconda-panel-2023.05-py310/lib/python3.11/site-packages/sklearn/linear_model/_logistic.py:460: ConvergenceWarning: lbfgs failed to converge (status=1):\n",
      "STOP: TOTAL NO. of ITERATIONS REACHED LIMIT.\n",
      "\n",
      "Increase the number of iterations (max_iter) or scale the data as shown in:\n",
      "    https://scikit-learn.org/stable/modules/preprocessing.html\n",
      "Please also refer to the documentation for alternative solver options:\n",
      "    https://scikit-learn.org/stable/modules/linear_model.html#logistic-regression\n",
      "  n_iter_i = _check_optimize_result(\n"
     ]
    },
    {
     "data": {
      "text/html": [
       "<style>#sk-container-id-2 {color: black;}#sk-container-id-2 pre{padding: 0;}#sk-container-id-2 div.sk-toggleable {background-color: white;}#sk-container-id-2 label.sk-toggleable__label {cursor: pointer;display: block;width: 100%;margin-bottom: 0;padding: 0.3em;box-sizing: border-box;text-align: center;}#sk-container-id-2 label.sk-toggleable__label-arrow:before {content: \"▸\";float: left;margin-right: 0.25em;color: #696969;}#sk-container-id-2 label.sk-toggleable__label-arrow:hover:before {color: black;}#sk-container-id-2 div.sk-estimator:hover label.sk-toggleable__label-arrow:before {color: black;}#sk-container-id-2 div.sk-toggleable__content {max-height: 0;max-width: 0;overflow: hidden;text-align: left;background-color: #f0f8ff;}#sk-container-id-2 div.sk-toggleable__content pre {margin: 0.2em;color: black;border-radius: 0.25em;background-color: #f0f8ff;}#sk-container-id-2 input.sk-toggleable__control:checked~div.sk-toggleable__content {max-height: 200px;max-width: 100%;overflow: auto;}#sk-container-id-2 input.sk-toggleable__control:checked~label.sk-toggleable__label-arrow:before {content: \"▾\";}#sk-container-id-2 div.sk-estimator input.sk-toggleable__control:checked~label.sk-toggleable__label {background-color: #d4ebff;}#sk-container-id-2 div.sk-label input.sk-toggleable__control:checked~label.sk-toggleable__label {background-color: #d4ebff;}#sk-container-id-2 input.sk-hidden--visually {border: 0;clip: rect(1px 1px 1px 1px);clip: rect(1px, 1px, 1px, 1px);height: 1px;margin: -1px;overflow: hidden;padding: 0;position: absolute;width: 1px;}#sk-container-id-2 div.sk-estimator {font-family: monospace;background-color: #f0f8ff;border: 1px dotted black;border-radius: 0.25em;box-sizing: border-box;margin-bottom: 0.5em;}#sk-container-id-2 div.sk-estimator:hover {background-color: #d4ebff;}#sk-container-id-2 div.sk-parallel-item::after {content: \"\";width: 100%;border-bottom: 1px solid gray;flex-grow: 1;}#sk-container-id-2 div.sk-label:hover label.sk-toggleable__label {background-color: #d4ebff;}#sk-container-id-2 div.sk-serial::before {content: \"\";position: absolute;border-left: 1px solid gray;box-sizing: border-box;top: 0;bottom: 0;left: 50%;z-index: 0;}#sk-container-id-2 div.sk-serial {display: flex;flex-direction: column;align-items: center;background-color: white;padding-right: 0.2em;padding-left: 0.2em;position: relative;}#sk-container-id-2 div.sk-item {position: relative;z-index: 1;}#sk-container-id-2 div.sk-parallel {display: flex;align-items: stretch;justify-content: center;background-color: white;position: relative;}#sk-container-id-2 div.sk-item::before, #sk-container-id-2 div.sk-parallel-item::before {content: \"\";position: absolute;border-left: 1px solid gray;box-sizing: border-box;top: 0;bottom: 0;left: 50%;z-index: -1;}#sk-container-id-2 div.sk-parallel-item {display: flex;flex-direction: column;z-index: 1;position: relative;background-color: white;}#sk-container-id-2 div.sk-parallel-item:first-child::after {align-self: flex-end;width: 50%;}#sk-container-id-2 div.sk-parallel-item:last-child::after {align-self: flex-start;width: 50%;}#sk-container-id-2 div.sk-parallel-item:only-child::after {width: 0;}#sk-container-id-2 div.sk-dashed-wrapped {border: 1px dashed gray;margin: 0 0.4em 0.5em 0.4em;box-sizing: border-box;padding-bottom: 0.4em;background-color: white;}#sk-container-id-2 div.sk-label label {font-family: monospace;font-weight: bold;display: inline-block;line-height: 1.2em;}#sk-container-id-2 div.sk-label-container {text-align: center;}#sk-container-id-2 div.sk-container {/* jupyter's `normalize.less` sets `[hidden] { display: none; }` but bootstrap.min.css set `[hidden] { display: none !important; }` so we also need the `!important` here to be able to override the default hidden behavior on the sphinx rendered scikit-learn.org. See: https://github.com/scikit-learn/scikit-learn/issues/21755 */display: inline-block !important;position: relative;}#sk-container-id-2 div.sk-text-repr-fallback {display: none;}</style><div id=\"sk-container-id-2\" class=\"sk-top-container\"><div class=\"sk-text-repr-fallback\"><pre>Pipeline(steps=[(&#x27;preprocessor&#x27;,\n",
       "                 ColumnTransformer(transformers=[(&#x27;num&#x27;,\n",
       "                                                  Pipeline(steps=[(&#x27;imputer&#x27;,\n",
       "                                                                   SimpleImputer(strategy=&#x27;median&#x27;)),\n",
       "                                                                  (&#x27;scaler&#x27;,\n",
       "                                                                   StandardScaler())]),\n",
       "                                                  Index([&#x27;respondent_id&#x27;, &#x27;xyz_concern&#x27;, &#x27;xyz_knowledge&#x27;,\n",
       "       &#x27;behavioral_antiviral_meds&#x27;, &#x27;behavioral_avoidance&#x27;,\n",
       "       &#x27;behavioral_face_mask&#x27;, &#x27;behavioral_wash_hands&#x27;,\n",
       "       &#x27;behavioral_large_gatherings&#x27;, &#x27;behavi...\n",
       "                                                                   SimpleImputer(strategy=&#x27;most_frequent&#x27;)),\n",
       "                                                                  (&#x27;onehot&#x27;,\n",
       "                                                                   OneHotEncoder(handle_unknown=&#x27;ignore&#x27;))]),\n",
       "                                                  [&#x27;age_group&#x27;, &#x27;education&#x27;,\n",
       "                                                   &#x27;race&#x27;, &#x27;sex&#x27;,\n",
       "                                                   &#x27;income_poverty&#x27;,\n",
       "                                                   &#x27;marital_status&#x27;,\n",
       "                                                   &#x27;rent_or_own&#x27;,\n",
       "                                                   &#x27;employment_status&#x27;,\n",
       "                                                   &#x27;hhs_geo_region&#x27;,\n",
       "                                                   &#x27;census_msa&#x27;,\n",
       "                                                   &#x27;employment_industry&#x27;,\n",
       "                                                   &#x27;employment_occupation&#x27;])])),\n",
       "                (&#x27;classifier&#x27;,\n",
       "                 MultiOutputClassifier(estimator=LogisticRegression()))])</pre><b>In a Jupyter environment, please rerun this cell to show the HTML representation or trust the notebook. <br />On GitHub, the HTML representation is unable to render, please try loading this page with nbviewer.org.</b></div><div class=\"sk-container\" hidden><div class=\"sk-item sk-dashed-wrapped\"><div class=\"sk-label-container\"><div class=\"sk-label sk-toggleable\"><input class=\"sk-toggleable__control sk-hidden--visually\" id=\"sk-estimator-id-15\" type=\"checkbox\" ><label for=\"sk-estimator-id-15\" class=\"sk-toggleable__label sk-toggleable__label-arrow\">Pipeline</label><div class=\"sk-toggleable__content\"><pre>Pipeline(steps=[(&#x27;preprocessor&#x27;,\n",
       "                 ColumnTransformer(transformers=[(&#x27;num&#x27;,\n",
       "                                                  Pipeline(steps=[(&#x27;imputer&#x27;,\n",
       "                                                                   SimpleImputer(strategy=&#x27;median&#x27;)),\n",
       "                                                                  (&#x27;scaler&#x27;,\n",
       "                                                                   StandardScaler())]),\n",
       "                                                  Index([&#x27;respondent_id&#x27;, &#x27;xyz_concern&#x27;, &#x27;xyz_knowledge&#x27;,\n",
       "       &#x27;behavioral_antiviral_meds&#x27;, &#x27;behavioral_avoidance&#x27;,\n",
       "       &#x27;behavioral_face_mask&#x27;, &#x27;behavioral_wash_hands&#x27;,\n",
       "       &#x27;behavioral_large_gatherings&#x27;, &#x27;behavi...\n",
       "                                                                   SimpleImputer(strategy=&#x27;most_frequent&#x27;)),\n",
       "                                                                  (&#x27;onehot&#x27;,\n",
       "                                                                   OneHotEncoder(handle_unknown=&#x27;ignore&#x27;))]),\n",
       "                                                  [&#x27;age_group&#x27;, &#x27;education&#x27;,\n",
       "                                                   &#x27;race&#x27;, &#x27;sex&#x27;,\n",
       "                                                   &#x27;income_poverty&#x27;,\n",
       "                                                   &#x27;marital_status&#x27;,\n",
       "                                                   &#x27;rent_or_own&#x27;,\n",
       "                                                   &#x27;employment_status&#x27;,\n",
       "                                                   &#x27;hhs_geo_region&#x27;,\n",
       "                                                   &#x27;census_msa&#x27;,\n",
       "                                                   &#x27;employment_industry&#x27;,\n",
       "                                                   &#x27;employment_occupation&#x27;])])),\n",
       "                (&#x27;classifier&#x27;,\n",
       "                 MultiOutputClassifier(estimator=LogisticRegression()))])</pre></div></div></div><div class=\"sk-serial\"><div class=\"sk-item sk-dashed-wrapped\"><div class=\"sk-label-container\"><div class=\"sk-label sk-toggleable\"><input class=\"sk-toggleable__control sk-hidden--visually\" id=\"sk-estimator-id-16\" type=\"checkbox\" ><label for=\"sk-estimator-id-16\" class=\"sk-toggleable__label sk-toggleable__label-arrow\">preprocessor: ColumnTransformer</label><div class=\"sk-toggleable__content\"><pre>ColumnTransformer(transformers=[(&#x27;num&#x27;,\n",
       "                                 Pipeline(steps=[(&#x27;imputer&#x27;,\n",
       "                                                  SimpleImputer(strategy=&#x27;median&#x27;)),\n",
       "                                                 (&#x27;scaler&#x27;, StandardScaler())]),\n",
       "                                 Index([&#x27;respondent_id&#x27;, &#x27;xyz_concern&#x27;, &#x27;xyz_knowledge&#x27;,\n",
       "       &#x27;behavioral_antiviral_meds&#x27;, &#x27;behavioral_avoidance&#x27;,\n",
       "       &#x27;behavioral_face_mask&#x27;, &#x27;behavioral_wash_hands&#x27;,\n",
       "       &#x27;behavioral_large_gatherings&#x27;, &#x27;behavioral_outside_home&#x27;,\n",
       "       &#x27;behavioral_t...\n",
       "                                  &#x27;opinion_seas_risk&#x27;,\n",
       "                                  &#x27;opinion_seas_sick_from_vacc&#x27;]),\n",
       "                                (&#x27;cat&#x27;,\n",
       "                                 Pipeline(steps=[(&#x27;imputer&#x27;,\n",
       "                                                  SimpleImputer(strategy=&#x27;most_frequent&#x27;)),\n",
       "                                                 (&#x27;onehot&#x27;,\n",
       "                                                  OneHotEncoder(handle_unknown=&#x27;ignore&#x27;))]),\n",
       "                                 [&#x27;age_group&#x27;, &#x27;education&#x27;, &#x27;race&#x27;, &#x27;sex&#x27;,\n",
       "                                  &#x27;income_poverty&#x27;, &#x27;marital_status&#x27;,\n",
       "                                  &#x27;rent_or_own&#x27;, &#x27;employment_status&#x27;,\n",
       "                                  &#x27;hhs_geo_region&#x27;, &#x27;census_msa&#x27;,\n",
       "                                  &#x27;employment_industry&#x27;,\n",
       "                                  &#x27;employment_occupation&#x27;])])</pre></div></div></div><div class=\"sk-parallel\"><div class=\"sk-parallel-item\"><div class=\"sk-item\"><div class=\"sk-label-container\"><div class=\"sk-label sk-toggleable\"><input class=\"sk-toggleable__control sk-hidden--visually\" id=\"sk-estimator-id-17\" type=\"checkbox\" ><label for=\"sk-estimator-id-17\" class=\"sk-toggleable__label sk-toggleable__label-arrow\">num</label><div class=\"sk-toggleable__content\"><pre>Index([&#x27;respondent_id&#x27;, &#x27;xyz_concern&#x27;, &#x27;xyz_knowledge&#x27;,\n",
       "       &#x27;behavioral_antiviral_meds&#x27;, &#x27;behavioral_avoidance&#x27;,\n",
       "       &#x27;behavioral_face_mask&#x27;, &#x27;behavioral_wash_hands&#x27;,\n",
       "       &#x27;behavioral_large_gatherings&#x27;, &#x27;behavioral_outside_home&#x27;,\n",
       "       &#x27;behavioral_touch_face&#x27;, &#x27;doctor_recc_xyz&#x27;, &#x27;doctor_recc_seasonal&#x27;,\n",
       "       &#x27;chronic_med_condition&#x27;, &#x27;child_under_6_months&#x27;, &#x27;health_worker&#x27;,\n",
       "       &#x27;health_insurance&#x27;, &#x27;opinion_xyz_vacc_effective&#x27;, &#x27;opinion_xyz_risk&#x27;,\n",
       "       &#x27;opinion_xyz_sick_from_vacc&#x27;, &#x27;opinion_seas_vacc_effective&#x27;,\n",
       "       &#x27;opinion_seas_risk&#x27;, &#x27;opinion_seas_sick_from_vacc&#x27;, &#x27;household_adults&#x27;,\n",
       "       &#x27;household_children&#x27;],\n",
       "      dtype=&#x27;object&#x27;)</pre></div></div></div><div class=\"sk-serial\"><div class=\"sk-item\"><div class=\"sk-serial\"><div class=\"sk-item\"><div class=\"sk-estimator sk-toggleable\"><input class=\"sk-toggleable__control sk-hidden--visually\" id=\"sk-estimator-id-18\" type=\"checkbox\" ><label for=\"sk-estimator-id-18\" class=\"sk-toggleable__label sk-toggleable__label-arrow\">SimpleImputer</label><div class=\"sk-toggleable__content\"><pre>SimpleImputer(strategy=&#x27;median&#x27;)</pre></div></div></div><div class=\"sk-item\"><div class=\"sk-estimator sk-toggleable\"><input class=\"sk-toggleable__control sk-hidden--visually\" id=\"sk-estimator-id-19\" type=\"checkbox\" ><label for=\"sk-estimator-id-19\" class=\"sk-toggleable__label sk-toggleable__label-arrow\">StandardScaler</label><div class=\"sk-toggleable__content\"><pre>StandardScaler()</pre></div></div></div></div></div></div></div></div><div class=\"sk-parallel-item\"><div class=\"sk-item\"><div class=\"sk-label-container\"><div class=\"sk-label sk-toggleable\"><input class=\"sk-toggleable__control sk-hidden--visually\" id=\"sk-estimator-id-20\" type=\"checkbox\" ><label for=\"sk-estimator-id-20\" class=\"sk-toggleable__label sk-toggleable__label-arrow\">ord</label><div class=\"sk-toggleable__content\"><pre>[&#x27;xyz_concern&#x27;, &#x27;xyz_knowledge&#x27;, &#x27;opinion_xyz_vacc_effective&#x27;, &#x27;opinion_xyz_risk&#x27;, &#x27;opinion_xyz_sick_from_vacc&#x27;, &#x27;opinion_seas_vacc_effective&#x27;, &#x27;opinion_seas_risk&#x27;, &#x27;opinion_seas_sick_from_vacc&#x27;]</pre></div></div></div><div class=\"sk-serial\"><div class=\"sk-item\"><div class=\"sk-serial\"><div class=\"sk-item\"><div class=\"sk-estimator sk-toggleable\"><input class=\"sk-toggleable__control sk-hidden--visually\" id=\"sk-estimator-id-21\" type=\"checkbox\" ><label for=\"sk-estimator-id-21\" class=\"sk-toggleable__label sk-toggleable__label-arrow\">SimpleImputer</label><div class=\"sk-toggleable__content\"><pre>SimpleImputer(strategy=&#x27;most_frequent&#x27;)</pre></div></div></div><div class=\"sk-item\"><div class=\"sk-estimator sk-toggleable\"><input class=\"sk-toggleable__control sk-hidden--visually\" id=\"sk-estimator-id-22\" type=\"checkbox\" ><label for=\"sk-estimator-id-22\" class=\"sk-toggleable__label sk-toggleable__label-arrow\">OrdinalEncoder</label><div class=\"sk-toggleable__content\"><pre>OrdinalEncoder(categories=[[0, 1, 2, 3], [0, 1, 2], [1, 2, 3, 4, 5],\n",
       "                           [1, 2, 3, 4, 5], [1, 2, 3, 4, 5], [1, 2, 3, 4, 5],\n",
       "                           [1, 2, 3, 4, 5], [1, 2, 3, 4, 5]])</pre></div></div></div></div></div></div></div></div><div class=\"sk-parallel-item\"><div class=\"sk-item\"><div class=\"sk-label-container\"><div class=\"sk-label sk-toggleable\"><input class=\"sk-toggleable__control sk-hidden--visually\" id=\"sk-estimator-id-23\" type=\"checkbox\" ><label for=\"sk-estimator-id-23\" class=\"sk-toggleable__label sk-toggleable__label-arrow\">cat</label><div class=\"sk-toggleable__content\"><pre>[&#x27;age_group&#x27;, &#x27;education&#x27;, &#x27;race&#x27;, &#x27;sex&#x27;, &#x27;income_poverty&#x27;, &#x27;marital_status&#x27;, &#x27;rent_or_own&#x27;, &#x27;employment_status&#x27;, &#x27;hhs_geo_region&#x27;, &#x27;census_msa&#x27;, &#x27;employment_industry&#x27;, &#x27;employment_occupation&#x27;]</pre></div></div></div><div class=\"sk-serial\"><div class=\"sk-item\"><div class=\"sk-serial\"><div class=\"sk-item\"><div class=\"sk-estimator sk-toggleable\"><input class=\"sk-toggleable__control sk-hidden--visually\" id=\"sk-estimator-id-24\" type=\"checkbox\" ><label for=\"sk-estimator-id-24\" class=\"sk-toggleable__label sk-toggleable__label-arrow\">SimpleImputer</label><div class=\"sk-toggleable__content\"><pre>SimpleImputer(strategy=&#x27;most_frequent&#x27;)</pre></div></div></div><div class=\"sk-item\"><div class=\"sk-estimator sk-toggleable\"><input class=\"sk-toggleable__control sk-hidden--visually\" id=\"sk-estimator-id-25\" type=\"checkbox\" ><label for=\"sk-estimator-id-25\" class=\"sk-toggleable__label sk-toggleable__label-arrow\">OneHotEncoder</label><div class=\"sk-toggleable__content\"><pre>OneHotEncoder(handle_unknown=&#x27;ignore&#x27;)</pre></div></div></div></div></div></div></div></div></div></div><div class=\"sk-item sk-dashed-wrapped\"><div class=\"sk-label-container\"><div class=\"sk-label sk-toggleable\"><input class=\"sk-toggleable__control sk-hidden--visually\" id=\"sk-estimator-id-26\" type=\"checkbox\" ><label for=\"sk-estimator-id-26\" class=\"sk-toggleable__label sk-toggleable__label-arrow\">classifier: MultiOutputClassifier</label><div class=\"sk-toggleable__content\"><pre>MultiOutputClassifier(estimator=LogisticRegression())</pre></div></div></div><div class=\"sk-parallel\"><div class=\"sk-parallel-item\"><div class=\"sk-item\"><div class=\"sk-label-container\"><div class=\"sk-label sk-toggleable\"><input class=\"sk-toggleable__control sk-hidden--visually\" id=\"sk-estimator-id-27\" type=\"checkbox\" ><label for=\"sk-estimator-id-27\" class=\"sk-toggleable__label sk-toggleable__label-arrow\">estimator: LogisticRegression</label><div class=\"sk-toggleable__content\"><pre>LogisticRegression()</pre></div></div></div><div class=\"sk-serial\"><div class=\"sk-item\"><div class=\"sk-estimator sk-toggleable\"><input class=\"sk-toggleable__control sk-hidden--visually\" id=\"sk-estimator-id-28\" type=\"checkbox\" ><label for=\"sk-estimator-id-28\" class=\"sk-toggleable__label sk-toggleable__label-arrow\">LogisticRegression</label><div class=\"sk-toggleable__content\"><pre>LogisticRegression()</pre></div></div></div></div></div></div></div></div></div></div></div></div>"
      ],
      "text/plain": [
       "Pipeline(steps=[('preprocessor',\n",
       "                 ColumnTransformer(transformers=[('num',\n",
       "                                                  Pipeline(steps=[('imputer',\n",
       "                                                                   SimpleImputer(strategy='median')),\n",
       "                                                                  ('scaler',\n",
       "                                                                   StandardScaler())]),\n",
       "                                                  Index(['respondent_id', 'xyz_concern', 'xyz_knowledge',\n",
       "       'behavioral_antiviral_meds', 'behavioral_avoidance',\n",
       "       'behavioral_face_mask', 'behavioral_wash_hands',\n",
       "       'behavioral_large_gatherings', 'behavi...\n",
       "                                                                   SimpleImputer(strategy='most_frequent')),\n",
       "                                                                  ('onehot',\n",
       "                                                                   OneHotEncoder(handle_unknown='ignore'))]),\n",
       "                                                  ['age_group', 'education',\n",
       "                                                   'race', 'sex',\n",
       "                                                   'income_poverty',\n",
       "                                                   'marital_status',\n",
       "                                                   'rent_or_own',\n",
       "                                                   'employment_status',\n",
       "                                                   'hhs_geo_region',\n",
       "                                                   'census_msa',\n",
       "                                                   'employment_industry',\n",
       "                                                   'employment_occupation'])])),\n",
       "                ('classifier',\n",
       "                 MultiOutputClassifier(estimator=LogisticRegression()))])"
      ]
     },
     "execution_count": 53,
     "metadata": {},
     "output_type": "execute_result"
    }
   ],
   "source": [
    "# Train the model\n",
    "multi_target_model.fit(X_train, y_train)"
   ]
  },
  {
   "cell_type": "code",
   "execution_count": 54,
   "id": "10f0bc16-79a7-4b64-9622-85b1358234f3",
   "metadata": {},
   "outputs": [],
   "source": [
    "# Predict probabilities on validation set\n",
    "y_val_prob = multi_target_model.predict_proba(X_val)"
   ]
  },
  {
   "cell_type": "code",
   "execution_count": 55,
   "id": "74bb2212-11b4-4b9f-8b65-02970cfc0604",
   "metadata": {},
   "outputs": [],
   "source": [
    "# Separate the probabilities for each target\n",
    "y_xyz_val_prob = y_val_prob[0][:, 1]\n",
    "y_seasonal_val_prob = y_val_prob[1][:, 1]"
   ]
  },
  {
   "cell_type": "code",
   "execution_count": 59,
   "id": "d1263a1c-9c64-4143-9357-f2cfd04ad5f1",
   "metadata": {},
   "outputs": [],
   "source": [
    "# Evaluation on validation set\n",
    "y_val_pred = multi_target_model.predict(X_val)\n",
    "y_xyz_val_pred, y_seasonal_val_pred = y_val_pred[:, 0], y_val_pred[:, 1]"
   ]
  },
  {
   "cell_type": "code",
   "execution_count": 61,
   "id": "b3d3a067-d83f-494d-a1fe-199cd15c36d0",
   "metadata": {},
   "outputs": [
    {
     "name": "stdout",
     "output_type": "stream",
     "text": [
      "XYZ Vaccine Model Validation:\n",
      "Accuracy: 0.8397603893672781\n",
      "ROC-AUC: 0.8314106766171664\n",
      "              precision    recall  f1-score   support\n",
      "\n",
      "           0       0.86      0.95      0.90      4212\n",
      "           1       0.70      0.42      0.53      1130\n",
      "\n",
      "    accuracy                           0.84      5342\n",
      "   macro avg       0.78      0.69      0.72      5342\n",
      "weighted avg       0.83      0.84      0.82      5342\n",
      "\n",
      "Seasonal Flu Vaccine Model Validation:\n",
      "Accuracy: 0.7865967802321228\n",
      "ROC-AUC: 0.8561016257632651\n",
      "              precision    recall  f1-score   support\n",
      "\n",
      "           0       0.79      0.82      0.81      2891\n",
      "           1       0.78      0.75      0.76      2451\n",
      "\n",
      "    accuracy                           0.79      5342\n",
      "   macro avg       0.79      0.78      0.78      5342\n",
      "weighted avg       0.79      0.79      0.79      5342\n",
      "\n"
     ]
    }
   ],
   "source": [
    "print('XYZ Vaccine Model Validation:')\n",
    "print('Accuracy:', accuracy_score(y_val['xyz_vaccine'], y_xyz_val_pred))\n",
    "print('ROC-AUC:', roc_auc_score(y_val['xyz_vaccine'], y_xyz_val_prob))\n",
    "print(classification_report(y_val['xyz_vaccine'], y_xyz_val_pred))\n",
    "\n",
    "print('Seasonal Flu Vaccine Model Validation:')\n",
    "print('Accuracy:', accuracy_score(y_val['seasonal_vaccine'], y_seasonal_val_pred))\n",
    "print('ROC-AUC:', roc_auc_score(y_val['seasonal_vaccine'], y_seasonal_val_prob))\n",
    "print(classification_report(y_val['seasonal_vaccine'], y_seasonal_val_pred))"
   ]
  },
  {
   "cell_type": "code",
   "execution_count": 63,
   "id": "7ee935a5-a973-4114-bc8e-5b1a926edf2f",
   "metadata": {},
   "outputs": [],
   "source": [
    "# Predict probabilities on test set\n",
    "y_test_prob = multi_target_model.predict_proba(test_features)"
   ]
  },
  {
   "cell_type": "code",
   "execution_count": 65,
   "id": "35eedf2d-9fbd-4d71-9475-6bae9f42c1dd",
   "metadata": {},
   "outputs": [],
   "source": [
    "# Separate the probabilities for each target\n",
    "y_xyz_test_prob = y_test_prob[0][:, 1]\n",
    "y_seasonal_test_prob = y_test_prob[1][:, 1]"
   ]
  },
  {
   "cell_type": "code",
   "execution_count": 67,
   "id": "a66ec231-79c8-4117-8504-382d4ebbe5ea",
   "metadata": {},
   "outputs": [],
   "source": [
    "# Round probabilities to one decimal place\n",
    "y_xyz_test_prob = y_xyz_test_prob.round(1)\n",
    "y_seasonal_test_prob = y_seasonal_test_prob.round(1)"
   ]
  },
  {
   "cell_type": "code",
   "execution_count": 69,
   "id": "c2086b2f-2474-4753-a317-a3275aace82f",
   "metadata": {},
   "outputs": [],
   "source": [
    "# Create a submission DataFrame\n",
    "submission = pd.DataFrame({\n",
    "    'respondent_id': test_features['respondent_id'],\n",
    "    'xyz_vaccine': y_xyz_test_prob,\n",
    "    'seasonal_vaccine': y_seasonal_test_prob\n",
    "})"
   ]
  },
  {
   "cell_type": "code",
   "execution_count": 71,
   "id": "dc0ae3c7-af0f-48a8-a7f0-6c6fc7e8d388",
   "metadata": {},
   "outputs": [
    {
     "name": "stdout",
     "output_type": "stream",
     "text": [
      "   respondent_id  xyz_vaccine  seasonal_vaccine\n",
      "0          26707          0.1               0.3\n",
      "1          26708          0.0               0.0\n",
      "2          26709          0.4               0.5\n",
      "3          26710          0.5               0.9\n",
      "4          26711          0.1               0.5\n"
     ]
    }
   ],
   "source": [
    "# Save the submission file as CSV\n",
    "submission.to_csv('submission.csv', index=False)\n",
    "print(submission.head())"
   ]
  },
  {
   "cell_type": "code",
   "execution_count": 74,
   "id": "5599d58d-5c90-4a6f-a98a-51713d7eb52f",
   "metadata": {},
   "outputs": [],
   "source": [
    "submission.to_excel('submission.xlsx', index=False)"
   ]
  },
  {
   "cell_type": "code",
   "execution_count": null,
   "id": "740868be-1f57-4606-b7ff-141d485b93c7",
   "metadata": {},
   "outputs": [],
   "source": []
  }
 ],
 "metadata": {
  "kernelspec": {
   "display_name": "anaconda-panel-2023.05-py310",
   "language": "python",
   "name": "conda-env-anaconda-panel-2023.05-py310-py"
  },
  "language_info": {
   "codemirror_mode": {
    "name": "ipython",
    "version": 3
   },
   "file_extension": ".py",
   "mimetype": "text/x-python",
   "name": "python",
   "nbconvert_exporter": "python",
   "pygments_lexer": "ipython3",
   "version": "3.11.5"
  }
 },
 "nbformat": 4,
 "nbformat_minor": 5
}
